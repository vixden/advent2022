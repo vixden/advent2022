{
 "cells": [
  {
   "cell_type": "code",
   "execution_count": 21,
   "metadata": {},
   "outputs": [],
   "source": [
    "with open(\"input/day3.txt\", 'r') as f:\n",
    "    input = [i.strip() for i in f.readlines()]"
   ]
  },
  {
   "cell_type": "code",
   "execution_count": 72,
   "metadata": {},
   "outputs": [
    {
     "data": {
      "text/plain": [
       "8085"
      ]
     },
     "execution_count": 72,
     "metadata": {},
     "output_type": "execute_result"
    }
   ],
   "source": [
    "def score(letter):\n",
    "    # Get score\n",
    "    if letter.islower():\n",
    "        return ord(letter) - 96\n",
    "    else:\n",
    "        return ord(letter) - 38\n",
    "\n",
    "def get_score(row):\n",
    "    # Get duplicates\n",
    "    first, second = set(row[:int(len(row)/2)]), set(row[int(len(row)/2):])\n",
    "    letter = list(first.intersection(second))[0]\n",
    "\n",
    "    # Get score\n",
    "    return score(letter)\n",
    "\n",
    "sum(get_score(x) for x in input)"
   ]
  },
  {
   "cell_type": "code",
   "execution_count": 73,
   "metadata": {},
   "outputs": [
    {
     "data": {
      "text/plain": [
       "2515"
      ]
     },
     "execution_count": 73,
     "metadata": {},
     "output_type": "execute_result"
    }
   ],
   "source": [
    "def get_common(chunk):\n",
    "    chunk = [set(c) for c in chunk]\n",
    "    chunk.sort(key=len) # Get the shortest string to check\n",
    "\n",
    "    for letter in chunk[0]:\n",
    "        if letter in chunk[1] and letter in chunk[2]:\n",
    "            return(score(letter))\n",
    "\n",
    "\n",
    "chunks  = [input[x:x+3] for x in range(0, len(input), 3)]\n",
    "sum([get_common(chunk) for chunk in chunks])"
   ]
  },
  {
   "cell_type": "code",
   "execution_count": null,
   "metadata": {},
   "outputs": [],
   "source": []
  }
 ],
 "metadata": {
  "kernelspec": {
   "display_name": "Python 3.10.8 64-bit (microsoft store)",
   "language": "python",
   "name": "python3"
  },
  "language_info": {
   "codemirror_mode": {
    "name": "ipython",
    "version": 3
   },
   "file_extension": ".py",
   "mimetype": "text/x-python",
   "name": "python",
   "nbconvert_exporter": "python",
   "pygments_lexer": "ipython3",
   "version": "3.10.8"
  },
  "orig_nbformat": 4,
  "vscode": {
   "interpreter": {
    "hash": "24e494cb7148fc06ce9fcd55dbcad7892bb5319e4ef8b8b5b7885f34676d6369"
   }
  }
 },
 "nbformat": 4,
 "nbformat_minor": 2
}
