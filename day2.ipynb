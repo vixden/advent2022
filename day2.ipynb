{
 "cells": [
  {
   "cell_type": "code",
   "execution_count": 1,
   "metadata": {},
   "outputs": [],
   "source": [
    "#guide = {A : rock B paper C scissors}\n",
    "#guide = {X rock Y paper Z scissors}\n",
    "\n",
    "guide = {'X' : ('A', 1),\n",
    "        'Y' : ('B', 2),\n",
    "        'Z' : ('C', 3)}\n",
    "\n",
    "def play(opponent, hand):\n",
    "    hand, bonus = guide[hand]\n",
    "    score = 0\n",
    "\n",
    "    if opponent == hand:\n",
    "        score = 3 \n",
    "    else:\n",
    "        if opponent == 'A' and hand == 'B':\n",
    "            score = 6\n",
    "        elif opponent == 'B' and hand == 'C':\n",
    "            score = 6\n",
    "        elif opponent == 'C' and hand == 'A':\n",
    "            score = 6\n",
    "\n",
    "    return score + bonus\n",
    "    \n"
   ]
  },
  {
   "cell_type": "code",
   "execution_count": 13,
   "metadata": {},
   "outputs": [
    {
     "name": "stdout",
     "output_type": "stream",
     "text": [
      "13005\n"
     ]
    }
   ],
   "source": [
    "with open('input/day2.txt', 'r') as f:\n",
    "    input = [i.strip().split() for i  in f.readlines()]\n",
    "    print(sum([play(i,j) for i, j in input]))"
   ]
  },
  {
   "cell_type": "code",
   "execution_count": 22,
   "metadata": {},
   "outputs": [
    {
     "name": "stdout",
     "output_type": "stream",
     "text": [
      "11373\n"
     ]
    }
   ],
   "source": [
    "# X lose, Y draw, Z win\n",
    "def play(opponent, action):\n",
    "    score = 0\n",
    "    bonus = 0\n",
    "    if action == 'Y':\n",
    "        hand = opponent\n",
    "        score = 3\n",
    "    \n",
    "    elif action == 'Z':\n",
    "        if opponent == 'A':\n",
    "            hand = 'B'\n",
    "        elif opponent == 'B':\n",
    "            hand = 'C'\n",
    "        else: \n",
    "            hand = 'A'\n",
    "        score = 6\n",
    "\n",
    "    else:\n",
    "        if opponent == 'A':\n",
    "            hand = 'C'\n",
    "        elif opponent == 'B':\n",
    "            hand = 'A'\n",
    "        else:\n",
    "            hand = 'B'\n",
    "\n",
    "    bonus = ['A', 'B', 'C'].index(hand) + 1\n",
    "    return score + bonus\n",
    "\n",
    "with open('input/day2.txt', 'r') as f:\n",
    "    input = [i.strip().split() for i  in f.readlines()]\n",
    "    print(sum([play(i,j) for i, j in input]))\n",
    "\n",
    "\n",
    "    "
   ]
  },
  {
   "cell_type": "code",
   "execution_count": null,
   "metadata": {},
   "outputs": [],
   "source": [
    "too low"
   ]
  }
 ],
 "metadata": {
  "kernelspec": {
   "display_name": "Python 3.10.8 64-bit (microsoft store)",
   "language": "python",
   "name": "python3"
  },
  "language_info": {
   "codemirror_mode": {
    "name": "ipython",
    "version": 3
   },
   "file_extension": ".py",
   "mimetype": "text/x-python",
   "name": "python",
   "nbconvert_exporter": "python",
   "pygments_lexer": "ipython3",
   "version": "3.10.8"
  },
  "orig_nbformat": 4,
  "vscode": {
   "interpreter": {
    "hash": "24e494cb7148fc06ce9fcd55dbcad7892bb5319e4ef8b8b5b7885f34676d6369"
   }
  }
 },
 "nbformat": 4,
 "nbformat_minor": 2
}
