{
 "cells": [
  {
   "cell_type": "code",
   "execution_count": 49,
   "metadata": {},
   "outputs": [
    {
     "data": {
      "text/plain": [
       "205370"
      ]
     },
     "execution_count": 49,
     "metadata": {},
     "output_type": "execute_result"
    }
   ],
   "source": [
    "import re\n",
    "\n",
    "with open('input/day1.txt', 'r') as f:\n",
    "    input = [i.strip() for i in f.readlines()]\n",
    "    \n",
    "    size = len(input)\n",
    "    idx_list = [idx + 1 for idx, val in enumerate(input) if val == '']\n",
    "\n",
    "    input = [input[i:j-1] for i, j in zip([0] + idx_list, idx_list + ([size] if idx_list[-1] != size else []))]\n",
    "    sums = sorted([sum([int(j) for j in i]) for i in input],reverse=True)[:3]\n",
    "    \n",
    "sum(sums)"
   ]
  },
  {
   "cell_type": "code",
   "execution_count": null,
   "metadata": {},
   "outputs": [],
   "source": []
  },
  {
   "cell_type": "code",
   "execution_count": null,
   "metadata": {},
   "outputs": [],
   "source": []
  }
 ],
 "metadata": {
  "kernelspec": {
   "display_name": "Python 3.10.8 64-bit (microsoft store)",
   "language": "python",
   "name": "python3"
  },
  "language_info": {
   "codemirror_mode": {
    "name": "ipython",
    "version": 3
   },
   "file_extension": ".py",
   "mimetype": "text/x-python",
   "name": "python",
   "nbconvert_exporter": "python",
   "pygments_lexer": "ipython3",
   "version": "3.10.8"
  },
  "orig_nbformat": 4,
  "vscode": {
   "interpreter": {
    "hash": "24e494cb7148fc06ce9fcd55dbcad7892bb5319e4ef8b8b5b7885f34676d6369"
   }
  }
 },
 "nbformat": 4,
 "nbformat_minor": 2
}
